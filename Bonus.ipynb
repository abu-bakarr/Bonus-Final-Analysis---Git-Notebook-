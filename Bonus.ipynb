{
 "cells": [
  {
   "cell_type": "code",
   "execution_count": 1,
   "id": "superb-saying",
   "metadata": {},
   "outputs": [],
   "source": [
    "import numpy as np\n",
    "import pandas as pd\n",
    "import math\n",
    "from sklearn import metrics\n",
    "from sklearn.cluster import KMeans\n",
    "from sklearn.preprocessing import StandardScaler, normalize\n",
    "from scipy.spatial.distance import cdist\n",
    "import matplotlib.pyplot as plt\n",
    "import seaborn as sns\n",
    "import plotly.express as px\n",
    "import plotly.graph_objects as go\n",
    "from plotly.subplots import make_subplots\n",
    "import sys, os"
   ]
  },
  {
   "cell_type": "markdown",
   "id": "compliant-modern",
   "metadata": {},
   "source": [
    "##  Helper Functions"
   ]
  },
  {
   "cell_type": "code",
   "execution_count": 10,
   "id": "afraid-discussion",
   "metadata": {},
   "outputs": [],
   "source": [
    "\n",
    "def convert_to_string(df, columns):\n",
    "    for col in columns:\n",
    "        df[col] = df[col].astype(\"string\")\n",
    "\n",
    "\n",
    "def convert_to_numbers(df, columns):\n",
    "    for col in columns:\n",
    "        df[col] = pd.to_numeric(df[col])\n",
    "\n",
    "\n",
    "def convert_to_int(df, columns):\n",
    "    for col in columns:\n",
    "        df[col] = df[col].astype(\"int64\")\n",
    "\n",
    "\n",
    "def convert_to_datetime(df, columns):\n",
    "    for col in columns:\n",
    "        df[col] = pd.to_datetime(df[col])\n",
    "\n",
    "\n",
    "def multiply_by_factor(df, columns, factor):\n",
    "    for col in columns:\n",
    "        df[col] = df[col] * factor\n",
    "\n",
    "\n",
    "def percent_missing_values(df):\n",
    "\n",
    "    # Calculate total number of cells in dataframe\n",
    "    totalCells = np.product(df.shape)\n",
    "\n",
    "    # Count number of missing values per column\n",
    "    missingCount = df.isnull().sum()\n",
    "\n",
    "    # Calculate total number of missing values\n",
    "    totalMissing = missingCount.sum()\n",
    "\n",
    "    # Calculate percentage of missing values\n",
    "    print(\"The dataset contains\", round(\n",
    "        ((totalMissing/totalCells) * 100), 2), \"%\", \"missing values.\")\n",
    "\n",
    "\n",
    "def percent_missing_rows(df):\n",
    "\n",
    "    # Calculate total number rows with missing values\n",
    "    missing_rows = sum([True for idx, row in df.iterrows() if any(row.isna())])\n",
    "\n",
    "    # Calculate total number of rows\n",
    "    total_rows = df.shape[0]\n",
    "\n",
    "    # Calculate the percentage of missing rows\n",
    "    print(round(((missing_rows/total_rows) * 100), 2), \"%\",\n",
    "          \"of the rows in the dataset contain atleast one missing value.\")\n",
    "\n",
    "# Function to calculate missing values by column\n",
    "\n",
    "\n",
    "def missing_values_table(df):\n",
    "    # Total missing values\n",
    "    mis_val = df.isnull().sum()\n",
    "\n",
    "    # Percentage of missing values\n",
    "    mis_val_percent = 100 * mis_val / len(df)\n",
    "\n",
    "    # dtype of missing values\n",
    "    mis_val_dtype = df.dtypes\n",
    "\n",
    "    # Make a table with the results\n",
    "    mis_val_table = pd.concat(\n",
    "        [mis_val, mis_val_percent, mis_val_dtype], axis=1)\n",
    "\n",
    "    # Rename the columns\n",
    "    mis_val_table_ren_columns = mis_val_table.rename(\n",
    "        columns={0: 'Missing Values', 1: '% of Total Values', 2: 'Dtype'})\n",
    "\n",
    "    # Sort the table by percentage of missing descending and remove columns with no missing values\n",
    "    mis_val_table_ren_columns = mis_val_table_ren_columns[\n",
    "        mis_val_table_ren_columns.iloc[:, 0] != 0].sort_values(\n",
    "        '% of Total Values', ascending=False).round(2)\n",
    "\n",
    "    # Print some summary information\n",
    "    print(\"Your selected dataframe has \" + str(df.shape[1]) + \" columns.\\n\"\n",
    "          \"There are \" + str(mis_val_table_ren_columns.shape[0]) +\n",
    "          \" columns that have missing values.\")\n",
    "\n",
    "    if mis_val_table_ren_columns.shape[0] == 0:\n",
    "        return\n",
    "\n",
    "    # Return the dataframe with missing information\n",
    "    return mis_val_table_ren_columns\n",
    "\n",
    "\n",
    "def fix_missing_ffill(df, col):\n",
    "    count = df[col].isna().sum()\n",
    "    df[col] = df[col].fillna(method='ffill')\n",
    "    print(f\"{count} missing values in the column {col} have been replaced using the forward fill method.\")\n",
    "    return df[col]\n",
    "\n",
    "\n",
    "def fix_missing_bfill(df, col):\n",
    "    count = df[col].isna().sum()\n",
    "    df[col] = df[col].fillna(method='bfill')\n",
    "    print(f\"{count} missing values in the column {col} have been replaced using the backward fill method.\")\n",
    "    return df[col]\n",
    "\n",
    "\n",
    "def fix_missing_median(df, col):\n",
    "    median = df[col].median()\n",
    "    count = df[col].isna().sum()\n",
    "    df[col] = df[col].fillna(median)\n",
    "    print(f\"{count} missing values in the column {col} have been replaced by its median value {median}.\")\n",
    "    return df[col]\n",
    "\n",
    "\n",
    "def fix_missing_value(df, col, value):\n",
    "    count = df[col].isna().sum()\n",
    "    df[col] = df[col].fillna(value)\n",
    "    if type(value) == 'str':\n",
    "        print(\n",
    "            f\"{count} missing values in the column {col} have been replaced by '{value}'.\")\n",
    "    else:\n",
    "        print(\n",
    "            f\"{count} missing values in the column {col} have been replaced by {value}.\")\n",
    "    return df[col]\n",
    "\n",
    "\n",
    "def drop_duplicates(df):\n",
    "    old = df.shape[0]\n",
    "    df.drop_duplicates(inplace=True)\n",
    "    new = df.shape[0]\n",
    "    count = old - new\n",
    "    if (count == 0):\n",
    "        print(\"No duplicate rows were found.\")\n",
    "    else:\n",
    "        print(f\"{count} duplicate rows were found and removed.\")\n",
    "\n",
    "\n",
    "def drop_rows_with_missing_values(df):\n",
    "    old = df.shape[0]\n",
    "    df.dropna(inplace=True)\n",
    "    new = df.shape[0]\n",
    "    count = old - new\n",
    "    print(f\"{count} rows containg missing values were dropped.\")\n",
    "\n",
    "\n",
    "def drop_columns(df, columns):\n",
    "    df.drop(columns, axis=1, inplace=True)\n",
    "    count = len(columns)\n",
    "    if count == 1:\n",
    "        print(f\"{count} column was dropped.\")\n",
    "    else:\n",
    "        print(f\"{count} columns were dropped.\")\n"
   ]
  },
  {
   "cell_type": "code",
   "execution_count": 4,
   "id": "binding-marsh",
   "metadata": {},
   "outputs": [
    {
     "data": {
      "text/html": [
       "<div>\n",
       "<style scoped>\n",
       "    .dataframe tbody tr th:only-of-type {\n",
       "        vertical-align: middle;\n",
       "    }\n",
       "\n",
       "    .dataframe tbody tr th {\n",
       "        vertical-align: top;\n",
       "    }\n",
       "\n",
       "    .dataframe thead th {\n",
       "        text-align: right;\n",
       "    }\n",
       "</style>\n",
       "<table border=\"1\" class=\"dataframe\">\n",
       "  <thead>\n",
       "    <tr style=\"text-align: right;\">\n",
       "      <th></th>\n",
       "      <th>Unnamed: 0</th>\n",
       "      <th>auction_id</th>\n",
       "      <th>experiment</th>\n",
       "      <th>date</th>\n",
       "      <th>hour</th>\n",
       "      <th>device_make</th>\n",
       "      <th>platform_os</th>\n",
       "      <th>browser</th>\n",
       "      <th>yes</th>\n",
       "      <th>no</th>\n",
       "    </tr>\n",
       "  </thead>\n",
       "  <tbody>\n",
       "    <tr>\n",
       "      <th>0</th>\n",
       "      <td>1333639</td>\n",
       "      <td>8ec30aff-2332-4a1f-9330-b93abb32bc94</td>\n",
       "      <td>control</td>\n",
       "      <td>&lt;built-in method date of Timestamp object at 0...</td>\n",
       "      <td>15</td>\n",
       "      <td>LG</td>\n",
       "      <td>156</td>\n",
       "      <td>6</td>\n",
       "      <td>0.0</td>\n",
       "      <td>0.0</td>\n",
       "    </tr>\n",
       "    <tr>\n",
       "      <th>1</th>\n",
       "      <td>730667</td>\n",
       "      <td>4e1bcb56-357c-4186-9d39-3be82e3519f1</td>\n",
       "      <td>control</td>\n",
       "      <td>&lt;built-in method date of Timestamp object at 0...</td>\n",
       "      <td>7</td>\n",
       "      <td>Samsung</td>\n",
       "      <td>162</td>\n",
       "      <td>6</td>\n",
       "      <td>0.0</td>\n",
       "      <td>0.0</td>\n",
       "    </tr>\n",
       "    <tr>\n",
       "      <th>2</th>\n",
       "      <td>2069787</td>\n",
       "      <td>dd6ec327-fcfd-4a80-89c0-dccd3dd80f09</td>\n",
       "      <td>control</td>\n",
       "      <td>&lt;built-in method date of Timestamp object at 0...</td>\n",
       "      <td>14</td>\n",
       "      <td>Apple</td>\n",
       "      <td>178</td>\n",
       "      <td>15</td>\n",
       "      <td>0.0</td>\n",
       "      <td>0.0</td>\n",
       "    </tr>\n",
       "    <tr>\n",
       "      <th>3</th>\n",
       "      <td>1692366</td>\n",
       "      <td>b5222d0f-39e3-4c02-a12f-1ef09d4f861f</td>\n",
       "      <td>control</td>\n",
       "      <td>&lt;built-in method date of Timestamp object at 0...</td>\n",
       "      <td>22</td>\n",
       "      <td>Apple</td>\n",
       "      <td>167</td>\n",
       "      <td>15</td>\n",
       "      <td>0.0</td>\n",
       "      <td>0.0</td>\n",
       "    </tr>\n",
       "    <tr>\n",
       "      <th>4</th>\n",
       "      <td>1384123</td>\n",
       "      <td>9428377d-1504-4407-87c2-ce518f67eb87</td>\n",
       "      <td>control</td>\n",
       "      <td>&lt;built-in method date of Timestamp object at 0...</td>\n",
       "      <td>21</td>\n",
       "      <td>Samsung</td>\n",
       "      <td>155</td>\n",
       "      <td>15</td>\n",
       "      <td>0.0</td>\n",
       "      <td>0.0</td>\n",
       "    </tr>\n",
       "    <tr>\n",
       "      <th>...</th>\n",
       "      <td>...</td>\n",
       "      <td>...</td>\n",
       "      <td>...</td>\n",
       "      <td>...</td>\n",
       "      <td>...</td>\n",
       "      <td>...</td>\n",
       "      <td>...</td>\n",
       "      <td>...</td>\n",
       "      <td>...</td>\n",
       "      <td>...</td>\n",
       "    </tr>\n",
       "    <tr>\n",
       "      <th>912707</th>\n",
       "      <td>1426994</td>\n",
       "      <td>98c10ba3-932f-4feb-ad01-d1b549dbd905</td>\n",
       "      <td>exposed</td>\n",
       "      <td>&lt;built-in method date of Timestamp object at 0...</td>\n",
       "      <td>14</td>\n",
       "      <td>Samsung</td>\n",
       "      <td>162</td>\n",
       "      <td>15</td>\n",
       "      <td>0.0</td>\n",
       "      <td>1.0</td>\n",
       "    </tr>\n",
       "    <tr>\n",
       "      <th>912708</th>\n",
       "      <td>1846194</td>\n",
       "      <td>c591dcc1-2526-4caa-8561-0f9da1fe565b</td>\n",
       "      <td>exposed</td>\n",
       "      <td>&lt;built-in method date of Timestamp object at 0...</td>\n",
       "      <td>8</td>\n",
       "      <td>Samsung</td>\n",
       "      <td>162</td>\n",
       "      <td>15</td>\n",
       "      <td>0.0</td>\n",
       "      <td>0.0</td>\n",
       "    </tr>\n",
       "    <tr>\n",
       "      <th>912709</th>\n",
       "      <td>2133458</td>\n",
       "      <td>e44046fa-0d3e-4680-99a8-f8d2167890f4</td>\n",
       "      <td>exposed</td>\n",
       "      <td>&lt;built-in method date of Timestamp object at 0...</td>\n",
       "      <td>5</td>\n",
       "      <td>Apple</td>\n",
       "      <td>101</td>\n",
       "      <td>7</td>\n",
       "      <td>0.0</td>\n",
       "      <td>0.0</td>\n",
       "    </tr>\n",
       "    <tr>\n",
       "      <th>912710</th>\n",
       "      <td>1815799</td>\n",
       "      <td>c25657c2-f1b6-4f50-9610-9f3bbef2594d</td>\n",
       "      <td>exposed</td>\n",
       "      <td>&lt;built-in method date of Timestamp object at 0...</td>\n",
       "      <td>14</td>\n",
       "      <td>Samsung</td>\n",
       "      <td>101</td>\n",
       "      <td>6</td>\n",
       "      <td>1.0</td>\n",
       "      <td>0.0</td>\n",
       "    </tr>\n",
       "    <tr>\n",
       "      <th>912711</th>\n",
       "      <td>213933</td>\n",
       "      <td>16d54193-0661-4f2b-af10-f2ec88a73b59</td>\n",
       "      <td>exposed</td>\n",
       "      <td>&lt;built-in method date of Timestamp object at 0...</td>\n",
       "      <td>21</td>\n",
       "      <td>Samsung</td>\n",
       "      <td>101</td>\n",
       "      <td>15</td>\n",
       "      <td>0.0</td>\n",
       "      <td>0.0</td>\n",
       "    </tr>\n",
       "  </tbody>\n",
       "</table>\n",
       "<p>912712 rows × 10 columns</p>\n",
       "</div>"
      ],
      "text/plain": [
       "        Unnamed: 0                            auction_id experiment  \\\n",
       "0          1333639  8ec30aff-2332-4a1f-9330-b93abb32bc94    control   \n",
       "1           730667  4e1bcb56-357c-4186-9d39-3be82e3519f1    control   \n",
       "2          2069787  dd6ec327-fcfd-4a80-89c0-dccd3dd80f09    control   \n",
       "3          1692366  b5222d0f-39e3-4c02-a12f-1ef09d4f861f    control   \n",
       "4          1384123  9428377d-1504-4407-87c2-ce518f67eb87    control   \n",
       "...            ...                                   ...        ...   \n",
       "912707     1426994  98c10ba3-932f-4feb-ad01-d1b549dbd905    exposed   \n",
       "912708     1846194  c591dcc1-2526-4caa-8561-0f9da1fe565b    exposed   \n",
       "912709     2133458  e44046fa-0d3e-4680-99a8-f8d2167890f4    exposed   \n",
       "912710     1815799  c25657c2-f1b6-4f50-9610-9f3bbef2594d    exposed   \n",
       "912711      213933  16d54193-0661-4f2b-af10-f2ec88a73b59    exposed   \n",
       "\n",
       "                                                     date  hour device_make  \\\n",
       "0       <built-in method date of Timestamp object at 0...    15          LG   \n",
       "1       <built-in method date of Timestamp object at 0...     7     Samsung   \n",
       "2       <built-in method date of Timestamp object at 0...    14       Apple   \n",
       "3       <built-in method date of Timestamp object at 0...    22       Apple   \n",
       "4       <built-in method date of Timestamp object at 0...    21     Samsung   \n",
       "...                                                   ...   ...         ...   \n",
       "912707  <built-in method date of Timestamp object at 0...    14     Samsung   \n",
       "912708  <built-in method date of Timestamp object at 0...     8     Samsung   \n",
       "912709  <built-in method date of Timestamp object at 0...     5       Apple   \n",
       "912710  <built-in method date of Timestamp object at 0...    14     Samsung   \n",
       "912711  <built-in method date of Timestamp object at 0...    21     Samsung   \n",
       "\n",
       "        platform_os  browser  yes   no  \n",
       "0               156        6  0.0  0.0  \n",
       "1               162        6  0.0  0.0  \n",
       "2               178       15  0.0  0.0  \n",
       "3               167       15  0.0  0.0  \n",
       "4               155       15  0.0  0.0  \n",
       "...             ...      ...  ...  ...  \n",
       "912707          162       15  0.0  1.0  \n",
       "912708          162       15  0.0  0.0  \n",
       "912709          101        7  0.0  0.0  \n",
       "912710          101        6  1.0  0.0  \n",
       "912711          101       15  0.0  0.0  \n",
       "\n",
       "[912712 rows x 10 columns]"
      ]
     },
     "execution_count": 4,
     "metadata": {},
     "output_type": "execute_result"
    }
   ],
   "source": [
    "# reading the csv file\n",
    "missing_values = [\"n/a\", \"na\", \"undefined\"]\n",
    "df = pd.read_csv(\"ABtwoCampaignEngView.csv\",  na_values=missing_values)\n",
    "df"
   ]
  },
  {
   "cell_type": "markdown",
   "id": "elect-madrid",
   "metadata": {},
   "source": [
    "### General Statistics"
   ]
  },
  {
   "cell_type": "code",
   "execution_count": 6,
   "id": "applicable-country",
   "metadata": {},
   "outputs": [
    {
     "data": {
      "text/plain": [
       "9127120"
      ]
     },
     "execution_count": 6,
     "metadata": {},
     "output_type": "execute_result"
    }
   ],
   "source": [
    "# number of elements in the df\n",
    "df.size"
   ]
  },
  {
   "cell_type": "code",
   "execution_count": 7,
   "id": "descending-calgary",
   "metadata": {},
   "outputs": [
    {
     "data": {
      "text/plain": [
       "(912712, 10)"
      ]
     },
     "execution_count": 7,
     "metadata": {},
     "output_type": "execute_result"
    }
   ],
   "source": [
    "# rows and columns in the df\n",
    "df.shape"
   ]
  },
  {
   "cell_type": "code",
   "execution_count": 8,
   "id": "million-logistics",
   "metadata": {},
   "outputs": [
    {
     "data": {
      "text/html": [
       "<div>\n",
       "<style scoped>\n",
       "    .dataframe tbody tr th:only-of-type {\n",
       "        vertical-align: middle;\n",
       "    }\n",
       "\n",
       "    .dataframe tbody tr th {\n",
       "        vertical-align: top;\n",
       "    }\n",
       "\n",
       "    .dataframe thead th {\n",
       "        text-align: right;\n",
       "    }\n",
       "</style>\n",
       "<table border=\"1\" class=\"dataframe\">\n",
       "  <thead>\n",
       "    <tr style=\"text-align: right;\">\n",
       "      <th></th>\n",
       "      <th>Unnamed: 0</th>\n",
       "      <th>hour</th>\n",
       "      <th>platform_os</th>\n",
       "      <th>browser</th>\n",
       "      <th>yes</th>\n",
       "      <th>no</th>\n",
       "    </tr>\n",
       "  </thead>\n",
       "  <tbody>\n",
       "    <tr>\n",
       "      <th>count</th>\n",
       "      <td>9.127120e+05</td>\n",
       "      <td>912712.000000</td>\n",
       "      <td>912712.000000</td>\n",
       "      <td>912712.000000</td>\n",
       "      <td>912712.000000</td>\n",
       "      <td>912712.000000</td>\n",
       "    </tr>\n",
       "    <tr>\n",
       "      <th>mean</th>\n",
       "      <td>1.196268e+06</td>\n",
       "      <td>10.648142</td>\n",
       "      <td>127.813321</td>\n",
       "      <td>8.211051</td>\n",
       "      <td>0.101645</td>\n",
       "      <td>0.019499</td>\n",
       "    </tr>\n",
       "    <tr>\n",
       "      <th>std</th>\n",
       "      <td>6.900511e+05</td>\n",
       "      <td>7.372631</td>\n",
       "      <td>32.217674</td>\n",
       "      <td>3.536780</td>\n",
       "      <td>0.302182</td>\n",
       "      <td>0.138271</td>\n",
       "    </tr>\n",
       "    <tr>\n",
       "      <th>min</th>\n",
       "      <td>1.000000e+00</td>\n",
       "      <td>0.000000</td>\n",
       "      <td>101.000000</td>\n",
       "      <td>1.000000</td>\n",
       "      <td>0.000000</td>\n",
       "      <td>0.000000</td>\n",
       "    </tr>\n",
       "    <tr>\n",
       "      <th>25%</th>\n",
       "      <td>5.989198e+05</td>\n",
       "      <td>4.000000</td>\n",
       "      <td>101.000000</td>\n",
       "      <td>6.000000</td>\n",
       "      <td>0.000000</td>\n",
       "      <td>0.000000</td>\n",
       "    </tr>\n",
       "    <tr>\n",
       "      <th>50%</th>\n",
       "      <td>1.196384e+06</td>\n",
       "      <td>10.000000</td>\n",
       "      <td>101.000000</td>\n",
       "      <td>7.000000</td>\n",
       "      <td>0.000000</td>\n",
       "      <td>0.000000</td>\n",
       "    </tr>\n",
       "    <tr>\n",
       "      <th>75%</th>\n",
       "      <td>1.793652e+06</td>\n",
       "      <td>17.000000</td>\n",
       "      <td>162.000000</td>\n",
       "      <td>7.000000</td>\n",
       "      <td>0.000000</td>\n",
       "      <td>0.000000</td>\n",
       "    </tr>\n",
       "    <tr>\n",
       "      <th>max</th>\n",
       "      <td>2.391777e+06</td>\n",
       "      <td>23.000000</td>\n",
       "      <td>181.000000</td>\n",
       "      <td>15.000000</td>\n",
       "      <td>1.000000</td>\n",
       "      <td>1.000000</td>\n",
       "    </tr>\n",
       "  </tbody>\n",
       "</table>\n",
       "</div>"
      ],
      "text/plain": [
       "         Unnamed: 0           hour    platform_os        browser  \\\n",
       "count  9.127120e+05  912712.000000  912712.000000  912712.000000   \n",
       "mean   1.196268e+06      10.648142     127.813321       8.211051   \n",
       "std    6.900511e+05       7.372631      32.217674       3.536780   \n",
       "min    1.000000e+00       0.000000     101.000000       1.000000   \n",
       "25%    5.989198e+05       4.000000     101.000000       6.000000   \n",
       "50%    1.196384e+06      10.000000     101.000000       7.000000   \n",
       "75%    1.793652e+06      17.000000     162.000000       7.000000   \n",
       "max    2.391777e+06      23.000000     181.000000      15.000000   \n",
       "\n",
       "                 yes             no  \n",
       "count  912712.000000  912712.000000  \n",
       "mean        0.101645       0.019499  \n",
       "std         0.302182       0.138271  \n",
       "min         0.000000       0.000000  \n",
       "25%         0.000000       0.000000  \n",
       "50%         0.000000       0.000000  \n",
       "75%         0.000000       0.000000  \n",
       "max         1.000000       1.000000  "
      ]
     },
     "execution_count": 8,
     "metadata": {},
     "output_type": "execute_result"
    }
   ],
   "source": [
    "# descriptive statistics that summarize the central tendency, dispersion of the df's numerical columns, excluding NaN values\n",
    "df.describe()"
   ]
  },
  {
   "cell_type": "markdown",
   "id": "finnish-telescope",
   "metadata": {},
   "source": [
    "### Checking Missing Values"
   ]
  },
  {
   "cell_type": "code",
   "execution_count": 11,
   "id": "biological-cleaner",
   "metadata": {},
   "outputs": [
    {
     "name": "stdout",
     "output_type": "stream",
     "text": [
      "The dataset contains 0.0 % missing values.\n"
     ]
    }
   ],
   "source": [
    "percent_missing_values(df)"
   ]
  },
  {
   "cell_type": "code",
   "execution_count": 39,
   "id": "hindu-immune",
   "metadata": {},
   "outputs": [
    {
     "name": "stdout",
     "output_type": "stream",
     "text": [
      "0.0 % of the rows in the dataset contain atleast one missing value.\n"
     ]
    }
   ],
   "source": [
    "percent_missing_rows(df)"
   ]
  },
  {
   "cell_type": "markdown",
   "id": "binding-scottish",
   "metadata": {},
   "source": [
    "### Unique Auction Id"
   ]
  },
  {
   "cell_type": "code",
   "execution_count": 15,
   "id": "brutal-practice",
   "metadata": {},
   "outputs": [
    {
     "data": {
      "text/plain": [
       "892951"
      ]
     },
     "execution_count": 15,
     "metadata": {},
     "output_type": "execute_result"
    }
   ],
   "source": [
    "# unique value counts\n",
    "unique_counts = df['auction_id'].nunique()\n",
    "unique_counts"
   ]
  },
  {
   "cell_type": "markdown",
   "id": "acting-sharing",
   "metadata": {},
   "source": [
    "### Explore  Hour"
   ]
  },
  {
   "cell_type": "code",
   "execution_count": 17,
   "id": "lucky-rachel",
   "metadata": {},
   "outputs": [
    {
     "data": {
      "text/plain": [
       "2     59428\n",
       "3     56821\n",
       "4     54899\n",
       "0     54001\n",
       "1     52635\n",
       "23    46764\n",
       "18    39889\n",
       "20    39088\n",
       "17    38876\n",
       "19    37997\n",
       "16    37816\n",
       "5     36405\n",
       "15    35944\n",
       "6     35087\n",
       "14    32615\n",
       "21    32494\n",
       "11    30566\n",
       "12    29721\n",
       "13    29248\n",
       "10    28798\n",
       "7     27911\n",
       "9     26406\n",
       "8     25397\n",
       "22    23906\n",
       "Name: hour, dtype: int64"
      ]
     },
     "execution_count": 17,
     "metadata": {},
     "output_type": "execute_result"
    }
   ],
   "source": [
    "# unique value counts\n",
    "counts_df = df['hour'].value_counts()\n",
    "counts_df"
   ]
  },
  {
   "cell_type": "code",
   "execution_count": 21,
   "id": "happy-brunswick",
   "metadata": {},
   "outputs": [
    {
     "data": {
      "image/png": "[encoded data removed]",
      "text/plain": [
       "<Figure size 864x432 with 1 Axes>"
      ]
     },
     "metadata": {
      "needs_background": "light"
     },
     "output_type": "display_data"
    }
   ],
   "source": [
    "plt.figure(figsize=(12, 6))\n",
    "plt.title('Unique value counts of the hour column')\n",
    "sns.countplot(data=df, x='hour')\n",
    "plt.show()"
   ]
  },
  {
   "cell_type": "markdown",
   "id": "contrary-stuff",
   "metadata": {},
   "source": [
    "### Explore Experiment"
   ]
  },
  {
   "cell_type": "code",
   "execution_count": 19,
   "id": "english-clearing",
   "metadata": {},
   "outputs": [
    {
     "data": {
      "text/plain": [
       "exposed    456356\n",
       "control    456356\n",
       "Name: experiment, dtype: int64"
      ]
     },
     "execution_count": 19,
     "metadata": {},
     "output_type": "execute_result"
    }
   ],
   "source": [
    "# unique value counts\n",
    "counts_df = df['experiment'].value_counts()\n",
    "counts_df"
   ]
  },
  {
   "cell_type": "code",
   "execution_count": 20,
   "id": "considered-tragedy",
   "metadata": {},
   "outputs": [
    {
     "data": {
      "image/png": "[encoded data removed]",
      "text/plain": [
       "<Figure size 432x288 with 1 Axes>"
      ]
     },
     "metadata": {
      "needs_background": "light"
     },
     "output_type": "display_data"
    }
   ],
   "source": [
    "sns.countplot(data=df, x='experiment')\n",
    "plt.title('Unique value counts of the experiment column');"
   ]
  },
  {
   "cell_type": "markdown",
   "id": "modular-parcel",
   "metadata": {},
   "source": [
    "### Explore Devices"
   ]
  },
  {
   "cell_type": "code",
   "execution_count": 22,
   "id": "former-neighbor",
   "metadata": {},
   "outputs": [
    {
     "data": {
      "text/plain": [
       "Apple        474242\n",
       "Samsung      285995\n",
       "Google        75269\n",
       "Motorola      26179\n",
       "LG            20368\n",
       "              ...  \n",
       "unihertz          1\n",
       "Alldocube         1\n",
       "Lenco             1\n",
       "ANS               1\n",
       "Conquest          1\n",
       "Name: device_make, Length: 255, dtype: int64"
      ]
     },
     "execution_count": 22,
     "metadata": {},
     "output_type": "execute_result"
    }
   ],
   "source": [
    "# unique value counts\n",
    "counts_df = df['device_make'].value_counts()\n",
    "counts_df"
   ]
  },
  {
   "cell_type": "markdown",
   "id": "elegant-perspective",
   "metadata": {},
   "source": [
    "Total Unique Device"
   ]
  },
  {
   "cell_type": "code",
   "execution_count": 23,
   "id": "hydraulic-suite",
   "metadata": {},
   "outputs": [
    {
     "data": {
      "text/plain": [
       "255"
      ]
     },
     "execution_count": 23,
     "metadata": {},
     "output_type": "execute_result"
    }
   ],
   "source": [
    "df['device_make'].nunique()"
   ]
  },
  {
   "cell_type": "markdown",
   "id": "global-thumb",
   "metadata": {},
   "source": [
    "### Platform OS"
   ]
  },
  {
   "cell_type": "code",
   "execution_count": 25,
   "id": "competent-salmon",
   "metadata": {},
   "outputs": [
    {
     "data": {
      "text/plain": [
       "101    529469\n",
       "162    118039\n",
       "178     77651\n",
       "156     48979\n",
       "155     39381\n",
       "        ...  \n",
       "118         1\n",
       "130         1\n",
       "134         1\n",
       "106         1\n",
       "181         1\n",
       "Name: platform_os, Length: 68, dtype: int64"
      ]
     },
     "execution_count": 25,
     "metadata": {},
     "output_type": "execute_result"
    }
   ],
   "source": [
    "# unique value counts\n",
    "counts_df = df['platform_os'].value_counts()\n",
    "counts_df"
   ]
  },
  {
   "cell_type": "code",
   "execution_count": 26,
   "id": "funky-officer",
   "metadata": {},
   "outputs": [
    {
     "data": {
      "image/png": "[encoded data removed]",
      "text/plain": [
       "<Figure size 432x288 with 1 Axes>"
      ]
     },
     "metadata": {
      "needs_background": "light"
     },
     "output_type": "display_data"
    }
   ],
   "source": [
    "sns.countplot(data=df, x='platform_os')\n",
    "plt.title('Unique value counts of the platform_os column');"
   ]
  },
  {
   "cell_type": "markdown",
   "id": "suited-philosophy",
   "metadata": {},
   "source": [
    "### Explore Browser"
   ]
  },
  {
   "cell_type": "code",
   "execution_count": 27,
   "id": "integral-rwanda",
   "metadata": {},
   "outputs": [
    {
     "data": {
      "text/plain": [
       "6     427413\n",
       "7     289305\n",
       "15    191935\n",
       "5       2715\n",
       "12       870\n",
       "1        310\n",
       "8        153\n",
       "14         7\n",
       "10         4\n",
       "Name: browser, dtype: int64"
      ]
     },
     "execution_count": 27,
     "metadata": {},
     "output_type": "execute_result"
    }
   ],
   "source": [
    "# unique value counts\n",
    "counts_df = df['browser'].value_counts()\n",
    "counts_df"
   ]
  },
  {
   "cell_type": "code",
   "execution_count": 28,
   "id": "induced-firmware",
   "metadata": {},
   "outputs": [
    {
     "data": {
      "image/png": "[encoded data removed]",
      "text/plain": [
       "<Figure size 864x432 with 1 Axes>"
      ]
     },
     "metadata": {
      "needs_background": "light"
     },
     "output_type": "display_data"
    }
   ],
   "source": [
    "plt.figure(figsize=(12, 6))\n",
    "sns.countplot(data=df, x=\"browser\")\n",
    "plt.title('Unique value counts of the browser column')\n",
    "plt.xticks(rotation=45)\n",
    "plt.show()"
   ]
  },
  {
   "cell_type": "markdown",
   "id": "limiting-adams",
   "metadata": {},
   "source": [
    "### Explore Yes"
   ]
  },
  {
   "cell_type": "code",
   "execution_count": 29,
   "id": "sporting-breed",
   "metadata": {},
   "outputs": [
    {
     "data": {
      "text/plain": [
       "0.0    819939\n",
       "1.0     92773\n",
       "Name: yes, dtype: int64"
      ]
     },
     "execution_count": 29,
     "metadata": {},
     "output_type": "execute_result"
    }
   ],
   "source": [
    "# unique value counts\n",
    "counts_df = df['yes'].value_counts()\n",
    "counts_df"
   ]
  },
  {
   "cell_type": "code",
   "execution_count": 30,
   "id": "scientific-cooling",
   "metadata": {},
   "outputs": [
    {
     "data": {
      "image/png": "[encoded data removed]",
      "text/plain": [
       "<Figure size 432x288 with 1 Axes>"
      ]
     },
     "metadata": {
      "needs_background": "light"
     },
     "output_type": "display_data"
    }
   ],
   "source": [
    " sns.countplot(data=df, x=\"yes\")\n",
    "plt.title('Unique value counts of the yes column')\n",
    "plt.show()"
   ]
  },
  {
   "cell_type": "markdown",
   "id": "collect-secretariat",
   "metadata": {},
   "source": [
    "### Explore No"
   ]
  },
  {
   "cell_type": "code",
   "execution_count": 31,
   "id": "bearing-grant",
   "metadata": {},
   "outputs": [
    {
     "data": {
      "text/plain": [
       "0.0    894915\n",
       "1.0     17797\n",
       "Name: no, dtype: int64"
      ]
     },
     "execution_count": 31,
     "metadata": {},
     "output_type": "execute_result"
    }
   ],
   "source": [
    "# unique value counts\n",
    "counts_df = df['no'].value_counts()\n",
    "counts_df"
   ]
  },
  {
   "cell_type": "code",
   "execution_count": 32,
   "id": "digital-preserve",
   "metadata": {},
   "outputs": [
    {
     "data": {
      "image/png": "[encoded data removed]",
      "text/plain": [
       "<Figure size 432x288 with 1 Axes>"
      ]
     },
     "metadata": {
      "needs_background": "light"
     },
     "output_type": "display_data"
    }
   ],
   "source": [
    "sns.countplot(data=df, x=\"no\")\n",
    "plt.title('Unique value counts of the no column')\n",
    "plt.show()"
   ]
  },
  {
   "cell_type": "markdown",
   "id": "banned-colors",
   "metadata": {},
   "source": [
    "## Comparing two Columns"
   ]
  },
  {
   "cell_type": "markdown",
   "id": "ruled-trance",
   "metadata": {},
   "source": [
    "### Experiment and Hour"
   ]
  },
  {
   "cell_type": "code",
   "execution_count": 33,
   "id": "dutch-eligibility",
   "metadata": {},
   "outputs": [
    {
     "data": {
      "image/png": "[encoded data removed]",
      "text/plain": [
       "<Figure size 864x432 with 1 Axes>"
      ]
     },
     "metadata": {
      "needs_background": "light"
     },
     "output_type": "display_data"
    }
   ],
   "source": [
    "plt.figure(figsize=(12, 6))\n",
    "sns.countplot(data=df, x=\"hour\", hue=\"experiment\")\n",
    "plt.title('Experiment vs Hour')\n",
    "plt.show()"
   ]
  },
  {
   "cell_type": "markdown",
   "id": "equipped-constant",
   "metadata": {},
   "source": [
    "### Experiment and Browser"
   ]
  },
  {
   "cell_type": "code",
   "execution_count": 34,
   "id": "terminal-cancer",
   "metadata": {},
   "outputs": [
    {
     "data": {
      "image/png": "[encoded data removed]",
      "text/plain": [
       "<Figure size 864x432 with 1 Axes>"
      ]
     },
     "metadata": {
      "needs_background": "light"
     },
     "output_type": "display_data"
    }
   ],
   "source": [
    "plt.figure(figsize=(12, 6))\n",
    "sns.countplot(data=df, x=\"browser\", hue=\"experiment\")\n",
    "plt.title('Experiment vs Browser')\n",
    "plt.xticks(rotation=45)\n",
    "plt.show()"
   ]
  },
  {
   "cell_type": "markdown",
   "id": "cutting-entrance",
   "metadata": {},
   "source": [
    "### Experiment and OS"
   ]
  },
  {
   "cell_type": "code",
   "execution_count": 35,
   "id": "manual-abuse",
   "metadata": {},
   "outputs": [
    {
     "data": {
      "image/png": "[encoded data removed]",
      "text/plain": [
       "<Figure size 864x432 with 1 Axes>"
      ]
     },
     "metadata": {
      "needs_background": "light"
     },
     "output_type": "display_data"
    }
   ],
   "source": [
    "plt.figure(figsize=(12, 6))\n",
    "sns.countplot(data=df, x=\"platform_os\", hue=\"experiment\")\n",
    "plt.title('Experiment vs OS')\n",
    "plt.show()"
   ]
  },
  {
   "cell_type": "markdown",
   "id": "abstract-tattoo",
   "metadata": {},
   "source": [
    "### Experiment and Yes"
   ]
  },
  {
   "cell_type": "code",
   "execution_count": 36,
   "id": "healthy-workshop",
   "metadata": {},
   "outputs": [
    {
     "data": {
      "image/png": "[encoded data removed]",
      "text/plain": [
       "<Figure size 432x288 with 1 Axes>"
      ]
     },
     "metadata": {
      "needs_background": "light"
     },
     "output_type": "display_data"
    }
   ],
   "source": [
    "sns.countplot(data=df, x=\"yes\", hue=\"experiment\")\n",
    "plt.title('Experiment vs Yes')\n",
    "plt.show()"
   ]
  },
  {
   "cell_type": "markdown",
   "id": "reflected-occasion",
   "metadata": {},
   "source": [
    "### Experiment and No"
   ]
  },
  {
   "cell_type": "code",
   "execution_count": 37,
   "id": "characteristic-lightning",
   "metadata": {},
   "outputs": [
    {
     "data": {
      "image/png": "[encoded data removed]",
      "text/plain": [
       "<Figure size 432x288 with 1 Axes>"
      ]
     },
     "metadata": {
      "needs_background": "light"
     },
     "output_type": "display_data"
    }
   ],
   "source": [
    "sns.countplot(data=df, x=\"no\", hue=\"experiment\")\n",
    "plt.title('Experiment vs No')\n",
    "plt.show()"
   ]
  },
  {
   "cell_type": "markdown",
   "id": "british-cardiff",
   "metadata": {},
   "source": [
    "## Correlation Analysis"
   ]
  },
  {
   "cell_type": "code",
   "execution_count": 38,
   "id": "indian-trinidad",
   "metadata": {},
   "outputs": [
    {
     "data": {
      "image/png": "[encoded data removed]",
      "text/plain": [
       "<Figure size 432x288 with 2 Axes>"
      ]
     },
     "metadata": {
      "needs_background": "light"
     },
     "output_type": "display_data"
    }
   ],
   "source": [
    "corr = df.corr()\n",
    "sns.heatmap(corr, annot=True)\n",
    "plt.title('Heatmap of correlation for the numerical columns')\n",
    "plt.show()"
   ]
  },
  {
   "cell_type": "code",
   "execution_count": null,
   "id": "sacred-lloyd",
   "metadata": {},
   "outputs": [],
   "source": []
  }
 ],
 "metadata": {
  "kernelspec": {
   "display_name": "Python 3",
   "language": "python",
   "name": "python3"
  },
  "language_info": {
   "codemirror_mode": {
    "name": "ipython",
    "version": 3
   },
   "file_extension": ".py",
   "mimetype": "text/x-python",
   "name": "python",
   "nbconvert_exporter": "python",
   "pygments_lexer": "ipython3",
   "version": "3.8.8"
  }
 },
 "nbformat": 4,
 "nbformat_minor": 5
}
